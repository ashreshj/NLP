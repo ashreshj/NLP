{
 "cells": [
  {
   "cell_type": "code",
   "execution_count": null,
   "metadata": {
    "colab": {
     "base_uri": "https://localhost:8080/"
    },
    "id": "rZKMh7otj0mG",
    "outputId": "c9ca7d95-660f-4b38-f021-345045aa0c61"
   },
   "outputs": [
    {
     "name": "stdout",
     "output_type": "stream",
     "text": [
      "Requirement already satisfied: gensim in /usr/local/lib/python3.10/dist-packages (4.3.3)\n",
      "Requirement already satisfied: numpy<2.0,>=1.18.5 in /usr/local/lib/python3.10/dist-packages (from gensim) (1.26.4)\n",
      "Requirement already satisfied: scipy<1.14.0,>=1.7.0 in /usr/local/lib/python3.10/dist-packages (from gensim) (1.13.1)\n",
      "Requirement already satisfied: smart-open>=1.8.1 in /usr/local/lib/python3.10/dist-packages (from gensim) (7.1.0)\n",
      "Requirement already satisfied: wrapt in /usr/local/lib/python3.10/dist-packages (from smart-open>=1.8.1->gensim) (1.17.0)\n"
     ]
    }
   ],
   "source": [
    "!pip install gensim"
   ]
  },
  {
   "cell_type": "code",
   "execution_count": null,
   "metadata": {
    "id": "LofLp3_xR2Nj"
   },
   "outputs": [],
   "source": [
    "import gensim"
   ]
  },
  {
   "cell_type": "code",
   "execution_count": null,
   "metadata": {
    "id": "ICaLaFQpXY5W"
   },
   "outputs": [],
   "source": [
    "from gensim.models import Word2Vec,KeyedVectors"
   ]
  },
  {
   "cell_type": "code",
   "execution_count": null,
   "metadata": {
    "colab": {
     "base_uri": "https://localhost:8080/"
    },
    "id": "CSZsBwzqXm5Y",
    "outputId": "06674711-dd26-4e2a-adf7-77ca77ffc08b"
   },
   "outputs": [
    {
     "name": "stderr",
     "output_type": "stream",
     "text": [
      "[nltk_data] Downloading package punkt_tab to /root/nltk_data...\n",
      "[nltk_data]   Unzipping tokenizers/punkt_tab.zip.\n"
     ]
    },
    {
     "data": {
      "text/plain": [
       "True"
      ]
     },
     "execution_count": 5,
     "metadata": {},
     "output_type": "execute_result"
    }
   ],
   "source": [
    "import nltk\n",
    "nltk.download('punkt_tab')"
   ]
  },
  {
   "cell_type": "markdown",
   "metadata": {
    "id": "FxXy13vhZro_"
   },
   "source": [
    "**prepare the data**"
   ]
  },
  {
   "cell_type": "code",
   "execution_count": null,
   "metadata": {
    "colab": {
     "base_uri": "https://localhost:8080/"
    },
    "id": "LEJh-hhzZUr9",
    "outputId": "e695a80b-a85a-4d22-abe4-1a016a7738b3"
   },
   "outputs": [
    {
     "data": {
      "text/plain": [
       "[['i', 'love', 'machine', 'learning'],\n",
       " ['machine', 'learning', 'is', 'amazing'],\n",
       " ['natural',\n",
       "  'language',\n",
       "  'processing',\n",
       "  'is',\n",
       "  'a',\n",
       "  'part',\n",
       "  'of',\n",
       "  'machine',\n",
       "  'learning'],\n",
       " ['word2vec', 'is', 'used', 'in', 'many', 'nlp', 'tasks']]"
      ]
     },
     "execution_count": 6,
     "metadata": {},
     "output_type": "execute_result"
    }
   ],
   "source": [
    "from re import T\n",
    "from nltk.tokenize import word_tokenize\n",
    "from gensim.models import Word2Vec\n",
    "\n",
    "\n",
    "#sample corpus\n",
    "corpus = [\n",
    "    \"I love machine learning\",\n",
    "    \"Machine learning is amazing\",\n",
    "    \"Natural Language Processing is a part of machine learning\",\n",
    "    \"Word2Vec is used in many NLP tasks\"\n",
    "]\n",
    "\n",
    "tokenized_corpus = [word_tokenize(sentence.lower()) for sentence in corpus]\n",
    "tokenized_corpus\n"
   ]
  },
  {
   "cell_type": "markdown",
   "metadata": {
    "id": "imHITC7bbE1X"
   },
   "source": [
    "**Train the word2vec model**"
   ]
  },
  {
   "cell_type": "code",
   "execution_count": null,
   "metadata": {
    "id": "zAAzo3FyapZI"
   },
   "outputs": [],
   "source": [
    "# Train the Word2Vec model\n",
    "model = Word2Vec(sentences=tokenized_corpus, vector_size=100, window=2, min_count=1, sg=0)\n",
    "\n",
    "# sg=0 for CBOW, sg=1 for Skip-Gram\n",
    "#vector_size=100: The number of dimensions of the word vectors.\n",
    "#window=2: The maximum distance between the current and predicted word within a sentence.\n",
    "#min_count=1: Ignores all words with total frequency lower than this.\n",
    "#sg=0: Specifies the training algorithm (0 for CBOW, 1 for Skip-Gram).\n"
   ]
  },
  {
   "cell_type": "markdown",
   "metadata": {
    "id": "UFgIp2ukbrGJ"
   },
   "source": [
    "**step-3**"
   ]
  },
  {
   "cell_type": "code",
   "execution_count": null,
   "metadata": {
    "id": "XEYm98BsbpJZ"
   },
   "outputs": [],
   "source": [
    "#data\n",
    "## I love ML:[100]   say average\n",
    "#[100] [100] [100]"
   ]
  },
  {
   "cell_type": "markdown",
   "metadata": {
    "id": "buC1KQGhc1rZ"
   },
   "source": [
    "**explore the model**"
   ]
  },
  {
   "cell_type": "code",
   "execution_count": null,
   "metadata": {
    "colab": {
     "base_uri": "https://localhost:8080/"
    },
    "id": "-SypGovJckrx",
    "outputId": "14c384ad-1126-4994-c2d5-cbfe30931825"
   },
   "outputs": [
    {
     "name": "stdout",
     "output_type": "stream",
     "text": [
      "vector for machine [-5.3622725e-04  2.3643136e-04  5.1033497e-03  9.0092728e-03\n",
      " -9.3029495e-03 -7.1168090e-03  6.4588725e-03  8.9729885e-03\n",
      " -5.0154282e-03 -3.7633716e-03  7.3805046e-03 -1.5334714e-03\n",
      " -4.5366134e-03  6.5540518e-03 -4.8601604e-03 -1.8160177e-03\n",
      "  2.8765798e-03  9.9187379e-04 -8.2852151e-03 -9.4488179e-03\n",
      "  7.3117660e-03  5.0702621e-03  6.7576934e-03  7.6286553e-04\n",
      "  6.3508903e-03 -3.4053659e-03 -9.4640139e-04  5.7685734e-03\n",
      " -7.5216377e-03 -3.9361035e-03 -7.5115822e-03 -9.3004224e-04\n",
      "  9.5381187e-03 -7.3191668e-03 -2.3337686e-03 -1.9377411e-03\n",
      "  8.0774371e-03 -5.9308959e-03  4.5162440e-05 -4.7537340e-03\n",
      " -9.6035507e-03  5.0072931e-03 -8.7595852e-03 -4.3918253e-03\n",
      " -3.5099984e-05 -2.9618145e-04 -7.6612402e-03  9.6147433e-03\n",
      "  4.9820580e-03  9.2331432e-03 -8.1579173e-03  4.4957981e-03\n",
      " -4.1370760e-03  8.2453608e-04  8.4986202e-03 -4.4621765e-03\n",
      "  4.5175003e-03 -6.7869602e-03 -3.5484887e-03  9.3985079e-03\n",
      " -1.5776526e-03  3.2137157e-04 -4.1406299e-03 -7.6826881e-03\n",
      " -1.5080082e-03  2.4697948e-03 -8.8802696e-04  5.5336617e-03\n",
      " -2.7429771e-03  2.2600652e-03  5.4557943e-03  8.3459532e-03\n",
      " -1.4537406e-03 -9.2081428e-03  4.3705525e-03  5.7178497e-04\n",
      "  7.4419081e-03 -8.1328274e-04 -2.6384138e-03 -8.7530091e-03\n",
      " -8.5655687e-04  2.8265631e-03  5.4014288e-03  7.0526563e-03\n",
      " -5.7031214e-03  1.8588197e-03  6.0888636e-03 -4.7980510e-03\n",
      " -3.1072604e-03  6.7976294e-03  1.6314756e-03  1.8991709e-04\n",
      "  3.4736372e-03  2.1777749e-04  9.6188262e-03  5.0606038e-03\n",
      " -8.9173904e-03 -7.0415605e-03  9.0145587e-04  6.3925339e-03]\n"
     ]
    }
   ],
   "source": [
    "vector=model.wv['machine']\n",
    "print(\"vector for machine\",vector)"
   ]
  },
  {
   "cell_type": "code",
   "execution_count": null,
   "metadata": {
    "colab": {
     "base_uri": "https://localhost:8080/"
    },
    "id": "g_OLhMYAdB6r",
    "outputId": "8416e402-e590-4041-dccb-2e059240dc17"
   },
   "outputs": [
    {
     "name": "stdout",
     "output_type": "stream",
     "text": [
      "similar words to machine [('many', 0.21883945167064667), ('processing', 0.21617579460144043), ('of', 0.09316979348659515), ('natural', 0.09292881190776825), ('part', 0.07969934493303299)]\n"
     ]
    }
   ],
   "source": [
    "##find similar words\n",
    "similar_words=model.wv.most_similar('machine',topn=5)\n",
    "print(\"similar words to machine\",similar_words)"
   ]
  },
  {
   "cell_type": "markdown",
   "metadata": {
    "id": "obBr2rMbeGKg"
   },
   "source": [
    "**save and load the model**"
   ]
  },
  {
   "cell_type": "code",
   "execution_count": null,
   "metadata": {
    "id": "djglsPgrdd6i"
   },
   "outputs": [],
   "source": [
    "from pickle import load\n",
    "model.save('word2vec_model')\n",
    "\n",
    "loaded_model=Word2Vec.load('word2vec_model')"
   ]
  },
  {
   "cell_type": "code",
   "execution_count": null,
   "metadata": {
    "colab": {
     "base_uri": "https://localhost:8080/"
    },
    "id": "od2FQfy1eeo_",
    "outputId": "98983269-f7f6-42ce-89ff-9b29f7aa96d5"
   },
   "outputs": [
    {
     "data": {
      "text/plain": [
       "array([-5.3622725e-04,  2.3643136e-04,  5.1033497e-03,  9.0092728e-03,\n",
       "       -9.3029495e-03, -7.1168090e-03,  6.4588725e-03,  8.9729885e-03,\n",
       "       -5.0154282e-03, -3.7633716e-03,  7.3805046e-03, -1.5334714e-03,\n",
       "       -4.5366134e-03,  6.5540518e-03, -4.8601604e-03, -1.8160177e-03,\n",
       "        2.8765798e-03,  9.9187379e-04, -8.2852151e-03, -9.4488179e-03,\n",
       "        7.3117660e-03,  5.0702621e-03,  6.7576934e-03,  7.6286553e-04,\n",
       "        6.3508903e-03, -3.4053659e-03, -9.4640139e-04,  5.7685734e-03,\n",
       "       -7.5216377e-03, -3.9361035e-03, -7.5115822e-03, -9.3004224e-04,\n",
       "        9.5381187e-03, -7.3191668e-03, -2.3337686e-03, -1.9377411e-03,\n",
       "        8.0774371e-03, -5.9308959e-03,  4.5162440e-05, -4.7537340e-03,\n",
       "       -9.6035507e-03,  5.0072931e-03, -8.7595852e-03, -4.3918253e-03,\n",
       "       -3.5099984e-05, -2.9618145e-04, -7.6612402e-03,  9.6147433e-03,\n",
       "        4.9820580e-03,  9.2331432e-03, -8.1579173e-03,  4.4957981e-03,\n",
       "       -4.1370760e-03,  8.2453608e-04,  8.4986202e-03, -4.4621765e-03,\n",
       "        4.5175003e-03, -6.7869602e-03, -3.5484887e-03,  9.3985079e-03,\n",
       "       -1.5776526e-03,  3.2137157e-04, -4.1406299e-03, -7.6826881e-03,\n",
       "       -1.5080082e-03,  2.4697948e-03, -8.8802696e-04,  5.5336617e-03,\n",
       "       -2.7429771e-03,  2.2600652e-03,  5.4557943e-03,  8.3459532e-03,\n",
       "       -1.4537406e-03, -9.2081428e-03,  4.3705525e-03,  5.7178497e-04,\n",
       "        7.4419081e-03, -8.1328274e-04, -2.6384138e-03, -8.7530091e-03,\n",
       "       -8.5655687e-04,  2.8265631e-03,  5.4014288e-03,  7.0526563e-03,\n",
       "       -5.7031214e-03,  1.8588197e-03,  6.0888636e-03, -4.7980510e-03,\n",
       "       -3.1072604e-03,  6.7976294e-03,  1.6314756e-03,  1.8991709e-04,\n",
       "        3.4736372e-03,  2.1777749e-04,  9.6188262e-03,  5.0606038e-03,\n",
       "       -8.9173904e-03, -7.0415605e-03,  9.0145587e-04,  6.3925339e-03],\n",
       "      dtype=float32)"
      ]
     },
     "execution_count": 13,
     "metadata": {},
     "output_type": "execute_result"
    }
   ],
   "source": [
    "loaded_model.wv['machine']"
   ]
  },
  {
   "cell_type": "code",
   "execution_count": null,
   "metadata": {
    "colab": {
     "base_uri": "https://localhost:8080/"
    },
    "id": "m4gOdGPCepss",
    "outputId": "1d042e7e-902a-4e5a-a6c6-d7c2bd2cf8af"
   },
   "outputs": [
    {
     "name": "stdout",
     "output_type": "stream",
     "text": [
      "['machine', 'learning', 'is', 'tasks', 'nlp', 'love', 'amazing', 'natural', 'language', 'processing', 'a', 'part', 'of', 'word2vec', 'used', 'in', 'many', 'i']\n"
     ]
    }
   ],
   "source": [
    "vocabulary_list=list(model.wv.key_to_index)\n",
    "print(vocabulary_list)"
   ]
  },
  {
   "cell_type": "markdown",
   "metadata": {
    "id": "Oqd6YpP8fnfZ"
   },
   "source": [
    "**create sentence vectors**\n"
   ]
  },
  {
   "cell_type": "code",
   "execution_count": null,
   "metadata": {
    "colab": {
     "base_uri": "https://localhost:8080/"
    },
    "id": "nNbm_BWBfWHi",
    "outputId": "6b161651-8643-4ac1-b20f-d3f7f596bfce"
   },
   "outputs": [
    {
     "data": {
      "text/plain": [
       "['i', 'love', 'machine', 'learning']"
      ]
     },
     "execution_count": 15,
     "metadata": {},
     "output_type": "execute_result"
    }
   ],
   "source": [
    "tokenized_corpus[0]"
   ]
  },
  {
   "cell_type": "code",
   "execution_count": null,
   "metadata": {
    "colab": {
     "base_uri": "https://localhost:8080/"
    },
    "id": "8ThcLi2-f6ZI",
    "outputId": "18c7666d-5453-4a4a-b2ee-69b36b702d3e"
   },
   "outputs": [
    {
     "name": "stdout",
     "output_type": "stream",
     "text": [
      "[-4.0207915e-03  3.2696053e-03  3.0910969e-03 -3.8718141e-04\n",
      " -8.8787393e-04 -5.1710326e-03  5.2486509e-03  5.4208869e-03\n",
      " -4.5923661e-03 -5.3747389e-03 -6.1146310e-04 -4.5839301e-03\n",
      " -2.0020432e-03  3.5141921e-04  8.8029739e-04 -3.1583807e-03\n",
      "  1.4366856e-03  4.0451810e-04 -1.7185695e-03 -5.1930551e-03\n",
      "  2.0351768e-03 -1.3224414e-03  4.3212892e-03 -1.7635063e-03\n",
      "  6.3256139e-04 -1.8922193e-03 -1.4890864e-03 -1.7240411e-03\n",
      " -1.7689990e-03  2.1809188e-03  1.6289219e-03 -2.5746038e-03\n",
      " -7.9963799e-04 -6.0940967e-03  1.6795880e-03  4.6640956e-03\n",
      "  2.7829697e-03  3.1082109e-03  4.9885525e-03 -6.5073278e-04\n",
      "  4.1057146e-03 -4.6401573e-03 -4.4842893e-03 -4.1228323e-04\n",
      " -6.5497664e-04 -2.0443043e-04 -1.6234760e-03  3.0502810e-03\n",
      "  1.8509474e-03  2.7462370e-03  2.4480741e-03 -8.4897398e-04\n",
      "  3.0951335e-03  2.2058468e-03  1.9052378e-03  1.4340803e-03\n",
      "  7.0746718e-03 -1.3418103e-03 -2.9642095e-03  3.2599606e-03\n",
      " -1.7588695e-03 -7.2738389e-04 -1.8097156e-03 -4.7558574e-03\n",
      "  3.0876410e-03  2.8393264e-03  2.2202872e-03  1.3166070e-03\n",
      "  1.3389890e-03 -2.0432184e-03  1.5903306e-03 -4.3133576e-04\n",
      "  3.9198068e-03  3.1370143e-03  2.5814809e-03  2.1485309e-03\n",
      " -2.4138892e-04  1.6617337e-03  2.4070675e-03  3.0271534e-05\n",
      " -1.9472184e-03  2.2852723e-03  5.2323979e-03 -2.7570953e-03\n",
      "  7.9710677e-04 -9.5586287e-04  2.6658871e-03 -6.3998322e-04\n",
      "  1.8985048e-03  1.5397384e-03  5.2298964e-03  2.7846983e-03\n",
      "  1.0066701e-03 -3.5718607e-03  5.8952891e-03  5.0179521e-03\n",
      " -1.8230642e-03 -4.9961628e-03 -5.0884404e-04 -7.0347788e-04]\n",
      "100\n"
     ]
    }
   ],
   "source": [
    "import numpy as np\n",
    "sentence_vector=np.mean([model.wv[word] for word in tokenized_corpus[0]],axis=0)\n",
    "print(sentence_vector)\n",
    "#\n",
    "print(len(sentence_vector))"
   ]
  },
  {
   "cell_type": "code",
   "execution_count": null,
   "metadata": {
    "colab": {
     "base_uri": "https://localhost:8080/"
    },
    "id": "LAgezizSgIxi",
    "outputId": "30db0e31-95bc-4031-994f-dfe69d342fb5"
   },
   "outputs": [
    {
     "data": {
      "text/plain": [
       "-0.0040207915"
      ]
     },
     "execution_count": 18,
     "metadata": {},
     "output_type": "execute_result"
    }
   ],
   "source": [
    "sentence_vector[0]"
   ]
  },
  {
   "cell_type": "markdown",
   "metadata": {
    "id": "xVGjRdnviCHj"
   },
   "source": [
    "**second method or second part**"
   ]
  },
  {
   "cell_type": "code",
   "execution_count": null,
   "metadata": {
    "colab": {
     "base_uri": "https://localhost:8080/"
    },
    "id": "PEBgunKHgOPP",
    "outputId": "f0a8b3dd-aeb7-4c22-d138-5365ee533325"
   },
   "outputs": [
    {
     "name": "stdout",
     "output_type": "stream",
     "text": [
      "[==================================================] 100.0% 1662.8/1662.8MB downloaded\n"
     ]
    },
    {
     "data": {
      "text/plain": [
       "<gensim.models.keyedvectors.KeyedVectors at 0x7bed201dd1e0>"
      ]
     },
     "execution_count": 1,
     "metadata": {},
     "output_type": "execute_result"
    }
   ],
   "source": [
    "import gensim.downloader as api\n",
    "wv=api.load('word2vec-google-news-300')\n",
    "wv"
   ]
  },
  {
   "cell_type": "code",
   "execution_count": null,
   "metadata": {
    "colab": {
     "base_uri": "https://localhost:8080/"
    },
    "id": "xzJkZvA_iRMN",
    "outputId": "072eb47b-0b9d-4420-d5d9-9fd27d42f4c8"
   },
   "outputs": [
    {
     "name": "stdout",
     "output_type": "stream",
     "text": [
      "[ 1.25976562e-01  2.97851562e-02  8.60595703e-03  1.39648438e-01\n",
      " -2.56347656e-02 -3.61328125e-02  1.11816406e-01 -1.98242188e-01\n",
      "  5.12695312e-02  3.63281250e-01 -2.42187500e-01 -3.02734375e-01\n",
      " -1.77734375e-01 -2.49023438e-02 -1.67968750e-01 -1.69921875e-01\n",
      "  3.46679688e-02  5.21850586e-03  4.63867188e-02  1.28906250e-01\n",
      "  1.36718750e-01  1.12792969e-01  5.95703125e-02  1.36718750e-01\n",
      "  1.01074219e-01 -1.76757812e-01 -2.51953125e-01  5.98144531e-02\n",
      "  3.41796875e-01 -3.11279297e-02  1.04492188e-01  6.17675781e-02\n",
      "  1.24511719e-01  4.00390625e-01 -3.22265625e-01  8.39843750e-02\n",
      "  3.90625000e-02  5.85937500e-03  7.03125000e-02  1.72851562e-01\n",
      "  1.38671875e-01 -2.31445312e-01  2.83203125e-01  1.42578125e-01\n",
      "  3.41796875e-01 -2.39257812e-02 -1.09863281e-01  3.32031250e-02\n",
      " -5.46875000e-02  1.53198242e-02 -1.62109375e-01  1.58203125e-01\n",
      " -2.59765625e-01  2.01416016e-02 -1.63085938e-01  1.35803223e-03\n",
      " -1.44531250e-01 -5.68847656e-02  4.29687500e-02 -2.46582031e-02\n",
      "  1.85546875e-01  4.47265625e-01  9.58251953e-03  1.31835938e-01\n",
      "  9.86328125e-02 -1.85546875e-01 -1.00097656e-01 -1.33789062e-01\n",
      " -1.25000000e-01  2.83203125e-01  1.23046875e-01  5.32226562e-02\n",
      " -1.77734375e-01  8.59375000e-02 -2.18505859e-02  2.05078125e-02\n",
      " -1.39648438e-01  2.51464844e-02  1.38671875e-01 -1.05468750e-01\n",
      "  1.38671875e-01  8.88671875e-02 -7.51953125e-02 -2.13623047e-02\n",
      "  1.72851562e-01  4.63867188e-02 -2.65625000e-01  8.91113281e-03\n",
      "  1.49414062e-01  3.78417969e-02  2.38281250e-01 -1.24511719e-01\n",
      " -2.17773438e-01 -1.81640625e-01  2.97851562e-02  5.71289062e-02\n",
      " -2.89306641e-02  1.24511719e-02  9.66796875e-02 -2.31445312e-01\n",
      "  5.81054688e-02  6.68945312e-02  7.08007812e-02 -3.08593750e-01\n",
      " -2.14843750e-01  1.45507812e-01 -4.27734375e-01 -9.39941406e-03\n",
      "  1.54296875e-01 -7.66601562e-02  2.89062500e-01  2.77343750e-01\n",
      " -4.86373901e-04 -1.36718750e-01  3.24218750e-01 -2.46093750e-01\n",
      " -3.03649902e-03 -2.11914062e-01  1.25000000e-01  2.69531250e-01\n",
      "  2.04101562e-01  8.25195312e-02 -2.01171875e-01 -1.60156250e-01\n",
      " -3.78417969e-02 -1.20117188e-01  1.15234375e-01 -4.10156250e-02\n",
      " -3.95507812e-02 -8.98437500e-02  6.34765625e-03  2.03125000e-01\n",
      "  1.86523438e-01  2.73437500e-01  6.29882812e-02  1.41601562e-01\n",
      " -9.81445312e-02  1.38671875e-01  1.82617188e-01  1.73828125e-01\n",
      "  1.73828125e-01 -2.37304688e-01  1.78710938e-01  6.34765625e-02\n",
      "  2.36328125e-01 -2.08984375e-01  8.74023438e-02 -1.66015625e-01\n",
      " -7.91015625e-02  2.43164062e-01 -8.88671875e-02  1.26953125e-01\n",
      " -2.16796875e-01 -1.73828125e-01 -3.59375000e-01 -8.25195312e-02\n",
      " -6.49414062e-02  5.07812500e-02  1.35742188e-01 -7.47070312e-02\n",
      " -1.64062500e-01  1.15356445e-02  4.45312500e-01 -2.15820312e-01\n",
      " -1.11328125e-01 -1.92382812e-01  1.70898438e-01 -1.25000000e-01\n",
      "  2.65502930e-03  1.92382812e-01 -1.74804688e-01  1.39648438e-01\n",
      "  2.92968750e-01  1.13281250e-01  5.95703125e-02 -6.39648438e-02\n",
      "  9.96093750e-02 -2.72216797e-02  1.96533203e-02  4.27246094e-02\n",
      " -2.46093750e-01  6.39648438e-02 -2.25585938e-01 -1.68945312e-01\n",
      "  2.89916992e-03  8.20312500e-02  3.41796875e-01  4.32128906e-02\n",
      "  1.32812500e-01  1.42578125e-01  7.61718750e-02  5.98144531e-02\n",
      " -1.19140625e-01  2.74658203e-03 -6.29882812e-02 -2.72216797e-02\n",
      " -4.82177734e-03 -8.20312500e-02 -2.49023438e-02 -4.00390625e-01\n",
      " -1.06933594e-01  4.24804688e-02  7.76367188e-02 -1.16699219e-01\n",
      "  7.37304688e-02 -9.22851562e-02  1.07910156e-01  1.58203125e-01\n",
      "  4.24804688e-02  1.26953125e-01  3.61328125e-02  2.67578125e-01\n",
      " -1.01074219e-01 -3.02734375e-01 -5.76171875e-02  5.05371094e-02\n",
      "  5.26428223e-04 -2.07031250e-01 -1.38671875e-01 -8.97216797e-03\n",
      " -2.78320312e-02 -1.41601562e-01  2.07031250e-01 -1.58203125e-01\n",
      "  1.27929688e-01  1.49414062e-01 -2.24609375e-02 -8.44726562e-02\n",
      "  1.22558594e-01  2.15820312e-01 -2.13867188e-01 -3.12500000e-01\n",
      " -3.73046875e-01  4.08935547e-03  1.07421875e-01  1.06933594e-01\n",
      "  7.32421875e-02  8.97216797e-03 -3.88183594e-02 -1.29882812e-01\n",
      "  1.49414062e-01 -2.14843750e-01 -1.83868408e-03  9.91210938e-02\n",
      "  1.57226562e-01 -1.14257812e-01 -2.05078125e-01  9.91210938e-02\n",
      "  3.69140625e-01 -1.97265625e-01  3.54003906e-02  1.09375000e-01\n",
      "  1.31835938e-01  1.66992188e-01  2.35351562e-01  1.04980469e-01\n",
      " -4.96093750e-01 -1.64062500e-01 -1.56250000e-01 -5.22460938e-02\n",
      "  1.03027344e-01  2.43164062e-01 -1.88476562e-01  5.07812500e-02\n",
      " -9.37500000e-02 -6.68945312e-02  2.27050781e-02  7.61718750e-02\n",
      "  2.89062500e-01  3.10546875e-01 -5.37109375e-02  2.28515625e-01\n",
      "  2.51464844e-02  6.78710938e-02 -1.21093750e-01 -2.15820312e-01\n",
      " -2.73437500e-01 -3.07617188e-02 -3.37890625e-01  1.53320312e-01\n",
      "  2.33398438e-01 -2.08007812e-01  3.73046875e-01  8.20312500e-02\n",
      "  2.51953125e-01 -7.61718750e-02 -4.66308594e-02 -2.23388672e-02\n",
      "  2.99072266e-02 -5.93261719e-02 -4.66918945e-03 -2.44140625e-01\n",
      " -2.09960938e-01 -2.87109375e-01 -4.54101562e-02 -1.77734375e-01\n",
      " -2.79296875e-01 -8.59375000e-02  9.13085938e-02  2.51953125e-01]\n"
     ]
    }
   ],
   "source": [
    "vec_king=wv['king']\n",
    "print(vec_king)"
   ]
  },
  {
   "cell_type": "code",
   "execution_count": null,
   "metadata": {
    "colab": {
     "base_uri": "https://localhost:8080/"
    },
    "id": "3Kkzc8zBlb03",
    "outputId": "15d13046-f54d-4634-a3a9-51fbe19e2cba"
   },
   "outputs": [
    {
     "data": {
      "text/plain": [
       "(300,)"
      ]
     },
     "execution_count": 3,
     "metadata": {},
     "output_type": "execute_result"
    }
   ],
   "source": [
    "vec_king.shape"
   ]
  },
  {
   "cell_type": "code",
   "execution_count": null,
   "metadata": {
    "colab": {
     "base_uri": "https://localhost:8080/"
    },
    "id": "IRdLF-lFpNYn",
    "outputId": "ea358c68-38a8-41e6-a646-18362c656abb"
   },
   "outputs": [
    {
     "name": "stdout",
     "output_type": "stream",
     "text": [
      "[ 0.00524902 -0.14355469 -0.06933594  0.12353516  0.13183594 -0.08886719\n",
      " -0.07128906 -0.21679688 -0.19726562  0.05566406 -0.07568359 -0.38085938\n",
      "  0.10400391 -0.00081635  0.1328125   0.11279297  0.07275391 -0.046875\n",
      "  0.06591797  0.09423828  0.19042969  0.13671875 -0.23632812 -0.11865234\n",
      "  0.06542969 -0.05322266 -0.30859375  0.09179688  0.18847656 -0.16699219\n",
      " -0.15625    -0.13085938 -0.08251953  0.21289062 -0.35546875 -0.13183594\n",
      "  0.09619141  0.26367188 -0.09472656  0.18359375  0.10693359 -0.41601562\n",
      "  0.26953125 -0.02770996  0.17578125 -0.11279297 -0.00411987  0.14550781\n",
      "  0.15625     0.26757812 -0.01794434  0.09863281  0.05297852 -0.03125\n",
      " -0.16308594 -0.05810547 -0.34375    -0.17285156  0.11425781 -0.09033203\n",
      "  0.13476562  0.27929688 -0.04980469  0.12988281  0.17578125 -0.22167969\n",
      " -0.01190186  0.140625   -0.18164062  0.11865234  0.16113281  0.21484375\n",
      " -0.21191406  0.12695312 -0.10009766  0.13671875  0.12695312  0.01531982\n",
      "  0.10449219 -0.02783203 -0.06030273  0.0222168   0.18164062 -0.06738281\n",
      "  0.04907227  0.15429688 -0.25        0.13964844  0.29492188  0.10644531\n",
      "  0.3359375  -0.22265625 -0.125      -0.05297852  0.19238281  0.06835938\n",
      "  0.06982422 -0.05200195  0.14453125  0.00448608 -0.01013184 -0.1484375\n",
      "  0.21777344 -0.1953125  -0.390625    0.07763672 -0.57421875 -0.07910156\n",
      " -0.04052734 -0.1875      0.25390625  0.15722656  0.125       0.140625\n",
      "  0.20117188 -0.05859375  0.16894531 -0.28125     0.171875    0.19140625\n",
      "  0.12109375 -0.15039062 -0.00695801 -0.23730469  0.13964844 -0.00836182\n",
      " -0.04711914  0.14648438 -0.05688477  0.10205078  0.08447266  0.21191406\n",
      " -0.01831055  0.50390625 -0.04858398  0.22167969 -0.25585938  0.03417969\n",
      "  0.15820312 -0.03369141  0.06738281 -0.25195312  0.04614258 -0.07275391\n",
      "  0.07958984  0.04223633 -0.00128937  0.20214844 -0.13085938 -0.06030273\n",
      "  0.0378418   0.13574219  0.11181641 -0.24609375 -0.23925781 -0.23632812\n",
      " -0.04321289 -0.02905273  0.23535156 -0.00390625 -0.05029297  0.18457031\n",
      "  0.50390625 -0.00668335 -0.03466797 -0.07568359  0.06152344 -0.31445312\n",
      " -0.03759766  0.23632812 -0.12792969  0.15429688  0.296875    0.02709961\n",
      " -0.17089844 -0.22460938  0.00241089  0.10595703 -0.03320312  0.0145874\n",
      " -0.21582031  0.24707031 -0.07421875 -0.10205078  0.16894531 -0.05029297\n",
      "  0.20800781 -0.03857422 -0.22265625  0.27539062 -0.05957031 -0.01757812\n",
      "  0.01794434  0.08886719  0.12890625  0.18261719  0.14453125  0.10400391\n",
      " -0.1328125  -0.32617188  0.00386047 -0.11376953 -0.05053711 -0.13085938\n",
      "  0.02209473 -0.14648438  0.10742188  0.23046875  0.15234375  0.22753906\n",
      "  0.04833984  0.06787109 -0.06787109 -0.2578125   0.11230469  0.00363159\n",
      " -0.12011719 -0.21289062  0.11230469  0.12158203  0.06835938  0.04907227\n",
      "  0.2734375  -0.00302124 -0.00378418  0.00193787  0.1875     -0.29101562\n",
      "  0.09033203  0.26367188 -0.25585938 -0.28710938 -0.40820312  0.10546875\n",
      "  0.39648438 -0.07275391 -0.04321289 -0.06347656 -0.00060272 -0.11523438\n",
      "  0.31445312 -0.22265625  0.13574219 -0.01965332  0.15332031  0.00360107\n",
      " -0.12011719  0.06494141  0.16210938 -0.16699219  0.03271484 -0.00350952\n",
      "  0.18847656  0.19335938  0.1328125   0.06787109 -0.34179688 -0.08349609\n",
      " -0.29492188 -0.02099609  0.08886719  0.32421875 -0.36914062 -0.0859375\n",
      " -0.04956055  0.13183594  0.04418945  0.359375    0.21484375  0.265625\n",
      " -0.2734375   0.23535156  0.11425781  0.08789062  0.1875     -0.33203125\n",
      "  0.15136719 -0.03613281 -0.11914062  0.27734375  0.10839844 -0.07275391\n",
      "  0.23242188  0.00219727  0.23828125 -0.24902344 -0.12353516 -0.15917969\n",
      " -0.00601196  0.14550781 -0.00460815 -0.22558594 -0.37890625 -0.37695312\n",
      " -0.08251953 -0.04125977  0.16796875 -0.046875    0.16308594  0.15429688]\n"
     ]
    }
   ],
   "source": [
    "vec_queen=wv['queen']\n",
    "print(vec_queen)"
   ]
  },
  {
   "cell_type": "code",
   "execution_count": null,
   "metadata": {
    "colab": {
     "base_uri": "https://localhost:8080/"
    },
    "id": "lLc7Ol4GpQRs",
    "outputId": "9f87e0e5-9784-4178-e898-567f1b07118e"
   },
   "outputs": [
    {
     "data": {
      "text/plain": [
       "(300,)"
      ]
     },
     "execution_count": 5,
     "metadata": {},
     "output_type": "execute_result"
    }
   ],
   "source": [
    "vec_queen.shape"
   ]
  },
  {
   "cell_type": "code",
   "execution_count": null,
   "metadata": {
    "colab": {
     "base_uri": "https://localhost:8080/"
    },
    "id": "gOXAHf_cpTPc",
    "outputId": "34e69f5e-0b82-499e-c3e9-1cf9cebd90bd"
   },
   "outputs": [
    {
     "name": "stdout",
     "output_type": "stream",
     "text": [
      "cosine_similarity: 0.6510956\n"
     ]
    }
   ],
   "source": [
    "import numpy as np\n",
    "from numpy.linalg import norm\n",
    "\n",
    "cosine_similarity=np.dot(vec_king,vec_queen)/(norm(vec_king)*norm(vec_queen))\n",
    "print('cosine_similarity:',cosine_similarity)"
   ]
  },
  {
   "cell_type": "code",
   "execution_count": null,
   "metadata": {
    "colab": {
     "base_uri": "https://localhost:8080/"
    },
    "id": "BWT3BqUhpiMr",
    "outputId": "910eecbb-4087-419a-8b17-41e85de0be80"
   },
   "outputs": [
    {
     "data": {
      "text/plain": [
       "[('kings', 0.7138045430183411),\n",
       " ('queen', 0.6510956883430481),\n",
       " ('monarch', 0.6413194537162781),\n",
       " ('crown_prince', 0.6204220056533813),\n",
       " ('prince', 0.6159993410110474),\n",
       " ('sultan', 0.5864824056625366),\n",
       " ('ruler', 0.5797567367553711),\n",
       " ('princes', 0.5646552443504333),\n",
       " ('Prince_Paras', 0.5432944297790527),\n",
       " ('throne', 0.5422105193138123)]"
      ]
     },
     "execution_count": 8,
     "metadata": {},
     "output_type": "execute_result"
    }
   ],
   "source": [
    "wv.most_similar('king')"
   ]
  },
  {
   "cell_type": "code",
   "execution_count": null,
   "metadata": {
    "colab": {
     "base_uri": "https://localhost:8080/"
    },
    "id": "kVAVLUhxp1ld",
    "outputId": "2cf20a23-8803-451e-9b43-864adfacc18d"
   },
   "outputs": [
    {
     "data": {
      "text/plain": [
       "[('queens', 0.739944338798523),\n",
       " ('princess', 0.7070532441139221),\n",
       " ('king', 0.6510956883430481),\n",
       " ('monarch', 0.6383602023124695),\n",
       " ('very_pampered_McElhatton', 0.6357026696205139),\n",
       " ('Queen', 0.6163407564163208),\n",
       " ('NYC_anglophiles_aflutter', 0.6060680150985718),\n",
       " ('Queen_Consort', 0.5923796892166138),\n",
       " ('princesses', 0.5908074975013733),\n",
       " ('royal', 0.5637185573577881)]"
      ]
     },
     "execution_count": 9,
     "metadata": {},
     "output_type": "execute_result"
    }
   ],
   "source": [
    "wv.most_similar('queen')"
   ]
  },
  {
   "cell_type": "code",
   "execution_count": null,
   "metadata": {
    "colab": {
     "base_uri": "https://localhost:8080/"
    },
    "id": "0LBBRSZgq31C",
    "outputId": "93a4ed49-a7e8-4028-ced5-37f1ce6970c8"
   },
   "outputs": [
    {
     "data": {
      "text/plain": [
       "[('Telengana', 0.8757586479187012),\n",
       " ('separate_Telangana', 0.8618271946907043),\n",
       " ('Gorkhaland', 0.7615324854850769),\n",
       " ('Rayalaseema', 0.7429632544517517),\n",
       " ('Telangana_statehood', 0.7413598895072937),\n",
       " ('Telangana_Rashtra_Samiti_TRS', 0.7347113490104675),\n",
       " ('coastal_Andhra', 0.731582760810852),\n",
       " ('Telugu_Desam', 0.724362313747406),\n",
       " ('Telangana_Rashtra_Samiti', 0.7233849763870239),\n",
       " ('Telanagana', 0.7098553776741028)]"
      ]
     },
     "execution_count": 11,
     "metadata": {},
     "output_type": "execute_result"
    }
   ],
   "source": [
    "wv.most_similar('Telangana')"
   ]
  },
  {
   "cell_type": "code",
   "execution_count": null,
   "metadata": {
    "id": "Kd0thrpaq-nG"
   },
   "outputs": [],
   "source": []
  }
 ],
 "metadata": {
  "colab": {
   "provenance": []
  },
  "kernelspec": {
   "display_name": "Python 3 (ipykernel)",
   "language": "python",
   "name": "python3"
  },
  "language_info": {
   "codemirror_mode": {
    "name": "ipython",
    "version": 3
   },
   "file_extension": ".py",
   "mimetype": "text/x-python",
   "name": "python",
   "nbconvert_exporter": "python",
   "pygments_lexer": "ipython3",
   "version": "3.12.7"
  }
 },
 "nbformat": 4,
 "nbformat_minor": 4
}
