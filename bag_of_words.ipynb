{
 "cells": [
  {
   "cell_type": "code",
   "execution_count": 3,
   "id": "096a4f11-60e5-4547-b5de-70db26141e8c",
   "metadata": {},
   "outputs": [],
   "source": [
    "from nltk.corpus import stopwords\n",
    "sentences=['sky is nice','clouds are nice','sky is nice and Clouds are nice']\n",
    "cleaned_sentence=[]\n",
    "for sentence in sentences:\n",
    "    word=sentence.lower()\n",
    "    ##Lowering the letters becoz we dont want to treat uppercase and lowercase words\n",
    "    word=word.split() ##splitting our sentence into words\n",
    "\n",
    "    ##removing the stop words\n",
    "    word=[i for i in word if i not in set(stopwords.words('english'))]\n",
    "    word=\" \".join(word)   #joining our words back to sentences\n",
    "    cleaned_sentence.append(word)   ##appending our preprocessed sentence into new list \n"
   ]
  },
  {
   "cell_type": "code",
   "execution_count": 4,
   "id": "436a414c-2251-4931-97ca-8eacf4249da2",
   "metadata": {},
   "outputs": [
    {
     "data": {
      "text/plain": [
       "['sky nice', 'clouds nice', 'sky nice clouds nice']"
      ]
     },
     "execution_count": 4,
     "metadata": {},
     "output_type": "execute_result"
    }
   ],
   "source": [
    "cleaned_sentence"
   ]
  },
  {
   "cell_type": "code",
   "execution_count": 12,
   "id": "2db47591-676a-477c-91ce-3f316ba4ea21",
   "metadata": {},
   "outputs": [
    {
     "data": {
      "text/plain": [
       "array([[0, 1, 1],\n",
       "       [1, 1, 0],\n",
       "       [1, 2, 1]], dtype=int64)"
      ]
     },
     "execution_count": 12,
     "metadata": {},
     "output_type": "execute_result"
    }
   ],
   "source": [
    "from sklearn.feature_extraction.text import CountVectorizer\n",
    "\n",
    "cv=CountVectorizer(max_features=3)  # consider max_features as 3 means dimension \n",
    "Bagofwords=cv.fit_transform(cleaned_sentence)\n",
    "\n",
    "Bagofwords #convert to array()\n",
    "Bagofwords=Bagofwords.toarray()\n",
    "Bagofwords"
   ]
  },
  {
   "cell_type": "code",
   "execution_count": 13,
   "id": "011c633e-c906-4f12-a447-81681b393cde",
   "metadata": {},
   "outputs": [
    {
     "data": {
      "text/html": [
       "<div>\n",
       "<style scoped>\n",
       "    .dataframe tbody tr th:only-of-type {\n",
       "        vertical-align: middle;\n",
       "    }\n",
       "\n",
       "    .dataframe tbody tr th {\n",
       "        vertical-align: top;\n",
       "    }\n",
       "\n",
       "    .dataframe thead th {\n",
       "        text-align: right;\n",
       "    }\n",
       "</style>\n",
       "<table border=\"1\" class=\"dataframe\">\n",
       "  <thead>\n",
       "    <tr style=\"text-align: right;\">\n",
       "      <th></th>\n",
       "      <th>cloud</th>\n",
       "      <th>nice</th>\n",
       "      <th>sky</th>\n",
       "    </tr>\n",
       "  </thead>\n",
       "  <tbody>\n",
       "    <tr>\n",
       "      <th>0</th>\n",
       "      <td>0</td>\n",
       "      <td>1</td>\n",
       "      <td>1</td>\n",
       "    </tr>\n",
       "    <tr>\n",
       "      <th>1</th>\n",
       "      <td>1</td>\n",
       "      <td>1</td>\n",
       "      <td>0</td>\n",
       "    </tr>\n",
       "    <tr>\n",
       "      <th>2</th>\n",
       "      <td>1</td>\n",
       "      <td>2</td>\n",
       "      <td>1</td>\n",
       "    </tr>\n",
       "  </tbody>\n",
       "</table>\n",
       "</div>"
      ],
      "text/plain": [
       "   cloud  nice  sky\n",
       "0      0     1    1\n",
       "1      1     1    0\n",
       "2      1     2    1"
      ]
     },
     "execution_count": 13,
     "metadata": {},
     "output_type": "execute_result"
    }
   ],
   "source": [
    "import pandas as pd\n",
    "pd.DataFrame(Bagofwords,columns=['cloud','nice','sky'])"
   ]
  },
  {
   "cell_type": "code",
   "execution_count": 14,
   "id": "6b22d145-5682-48e3-80d1-d129bfdcb794",
   "metadata": {},
   "outputs": [
    {
     "data": {
      "text/plain": [
       "{'sky': 2, 'nice': 1, 'clouds': 0}"
      ]
     },
     "execution_count": 14,
     "metadata": {},
     "output_type": "execute_result"
    }
   ],
   "source": [
    "cv.vocabulary_"
   ]
  },
  {
   "cell_type": "code",
   "execution_count": 15,
   "id": "96eee722-1fe6-420e-9cdc-93b72aeb8f51",
   "metadata": {},
   "outputs": [
    {
     "data": {
      "text/plain": [
       "array([[0, 1, 1],\n",
       "       [1, 1, 0],\n",
       "       [1, 2, 1]], dtype=int64)"
      ]
     },
     "execution_count": 15,
     "metadata": {},
     "output_type": "execute_result"
    }
   ],
   "source": [
    "Bagofwords.view()"
   ]
  },
  {
   "cell_type": "code",
   "execution_count": 19,
   "id": "5b429ac9-5df5-40a3-94ca-0f3ec8fc6282",
   "metadata": {},
   "outputs": [],
   "source": [
    "from nltk.corpus import stopwords\n",
    "sentences=['Game of Thrones is an amazing tv series','Game of Thrones is the best tv series','Game of Thrones is so great']\n",
    "cleaned=[]\n",
    "for sentence in sentences:\n",
    "    word=sentence.lower()\n",
    "    ##Lowering the letters becoz we dont want to treat uppercase and lowercase words\n",
    "    word=word.split() ##splitting our sentence into words\n",
    "\n",
    "    ##removing the stop words\n",
    "    word=[i for i in word if i not in set(stopwords.words('english'))]\n",
    "    word=\" \".join(word)   #joining our words back to sentences\n",
    "    cleaned.append(word)   ##appending our preprocessed sentence into new list \n"
   ]
  },
  {
   "cell_type": "code",
   "execution_count": 20,
   "id": "db8f5a31-2e50-464e-9b4b-9a2934dc0d63",
   "metadata": {},
   "outputs": [
    {
     "data": {
      "text/plain": [
       "['game thrones amazing tv series',\n",
       " 'game thrones best tv series',\n",
       " 'game thrones great']"
      ]
     },
     "execution_count": 20,
     "metadata": {},
     "output_type": "execute_result"
    }
   ],
   "source": [
    "cleaned"
   ]
  },
  {
   "cell_type": "code",
   "execution_count": 25,
   "id": "0d113ed7-f31c-4c95-9bad-d35fd1939d8f",
   "metadata": {},
   "outputs": [
    {
     "name": "stdout",
     "output_type": "stream",
     "text": [
      "[[1 0 1 0 1 1 1]\n",
      " [0 1 1 0 1 1 1]\n",
      " [0 0 1 1 0 1 0]]\n",
      "{'game': 2, 'thrones': 5, 'amazing': 0, 'tv': 6, 'series': 4, 'best': 1, 'great': 3}\n"
     ]
    }
   ],
   "source": [
    "from sklearn.feature_extraction.text import CountVectorizer\n",
    "\n",
    "cv=CountVectorizer() \n",
    "Bagofwords=cv.fit_transform(cleaned).toarray()\n",
    "\n",
    "print(Bagofwords)\n",
    "print(cv.vocabulary_)"
   ]
  },
  {
   "cell_type": "code",
   "execution_count": 28,
   "id": "1fba6092-3ac7-4d7e-9da1-ee329b8fb4ac",
   "metadata": {},
   "outputs": [
    {
     "data": {
      "text/html": [
       "<div>\n",
       "<style scoped>\n",
       "    .dataframe tbody tr th:only-of-type {\n",
       "        vertical-align: middle;\n",
       "    }\n",
       "\n",
       "    .dataframe tbody tr th {\n",
       "        vertical-align: top;\n",
       "    }\n",
       "\n",
       "    .dataframe thead th {\n",
       "        text-align: right;\n",
       "    }\n",
       "</style>\n",
       "<table border=\"1\" class=\"dataframe\">\n",
       "  <thead>\n",
       "    <tr style=\"text-align: right;\">\n",
       "      <th></th>\n",
       "      <th>game</th>\n",
       "      <th>thrones</th>\n",
       "      <th>amazing</th>\n",
       "      <th>tv</th>\n",
       "      <th>series</th>\n",
       "      <th>best</th>\n",
       "      <th>great</th>\n",
       "    </tr>\n",
       "  </thead>\n",
       "  <tbody>\n",
       "    <tr>\n",
       "      <th>0</th>\n",
       "      <td>1</td>\n",
       "      <td>0</td>\n",
       "      <td>1</td>\n",
       "      <td>0</td>\n",
       "      <td>1</td>\n",
       "      <td>1</td>\n",
       "      <td>1</td>\n",
       "    </tr>\n",
       "    <tr>\n",
       "      <th>1</th>\n",
       "      <td>0</td>\n",
       "      <td>1</td>\n",
       "      <td>1</td>\n",
       "      <td>0</td>\n",
       "      <td>1</td>\n",
       "      <td>1</td>\n",
       "      <td>1</td>\n",
       "    </tr>\n",
       "    <tr>\n",
       "      <th>2</th>\n",
       "      <td>0</td>\n",
       "      <td>0</td>\n",
       "      <td>1</td>\n",
       "      <td>1</td>\n",
       "      <td>0</td>\n",
       "      <td>1</td>\n",
       "      <td>0</td>\n",
       "    </tr>\n",
       "  </tbody>\n",
       "</table>\n",
       "</div>"
      ],
      "text/plain": [
       "   game  thrones  amazing  tv  series  best  great\n",
       "0     1        0        1   0       1     1      1\n",
       "1     0        1        1   0       1     1      1\n",
       "2     0        0        1   1       0     1      0"
      ]
     },
     "execution_count": 28,
     "metadata": {},
     "output_type": "execute_result"
    }
   ],
   "source": [
    "pd.DataFrame(Bagofwords,columns=['game','thrones','amazing','tv','series','best','great'])"
   ]
  },
  {
   "cell_type": "code",
   "execution_count": null,
   "id": "e8a83dbb-66c0-4018-8f86-918c2a0fcf30",
   "metadata": {},
   "outputs": [],
   "source": []
  }
 ],
 "metadata": {
  "kernelspec": {
   "display_name": "Python 3 (ipykernel)",
   "language": "python",
   "name": "python3"
  },
  "language_info": {
   "codemirror_mode": {
    "name": "ipython",
    "version": 3
   },
   "file_extension": ".py",
   "mimetype": "text/x-python",
   "name": "python",
   "nbconvert_exporter": "python",
   "pygments_lexer": "ipython3",
   "version": "3.12.7"
  }
 },
 "nbformat": 4,
 "nbformat_minor": 5
}
