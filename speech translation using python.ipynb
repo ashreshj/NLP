{
 "cells": [
  {
   "cell_type": "code",
   "execution_count": 1,
   "id": "c3302dae-ae79-4567-8a01-d8257a0b3b09",
   "metadata": {},
   "outputs": [
    {
     "name": "stdout",
     "output_type": "stream",
     "text": [
      "please speak something....\n",
      "Time over,thanks\n",
      "You saidGame of Thrones\n"
     ]
    }
   ],
   "source": [
    "import speech_recognition as sr\n",
    "\n",
    "def speech_to_text():\n",
    "    #Intialize recognier class for recogning the speech\n",
    "    recognizer=sr.Recognizer()\n",
    "\n",
    "    #Reading microphone as soucre\n",
    "    #Listening the speech and store in audio_text variable\n",
    "    with sr.Microphone() as source:\n",
    "        print(\"please speak something....\")\n",
    "        audio_text=recognizer.listen(source)\n",
    "        print(\"Time over,thanks\")\n",
    "\n",
    "\n",
    "        try:\n",
    "            #using google speech recognition\n",
    "            text=recognizer.recognize_google(audio_text)\n",
    "            print(\"You said\"+text)\n",
    "\n",
    "        except sr.UnknownValueError:\n",
    "            print('sorry,I did not understand that.')\n",
    "\n",
    "        except sr.RequestError:\n",
    "            print(\"sorry,my speech service is down\")\n",
    "\n",
    "if __name__==\"__main__\":\n",
    "    speech_to_text()"
   ]
  },
  {
   "cell_type": "markdown",
   "id": "c8d2a7e3-d61f-4342-a731-8d32c2c6049e",
   "metadata": {},
   "source": [
    "**Text to speech**"
   ]
  },
  {
   "cell_type": "code",
   "execution_count": 2,
   "id": "1487c10e-e3a1-49a6-914b-a43f23be94fb",
   "metadata": {},
   "outputs": [],
   "source": [
    "import pyttsx3\n",
    "\n",
    "#initilaisation\n",
    "engine=pyttsx3.init()\n",
    "\n",
    "#testing\n",
    "\n",
    "engine.say(\"katham jindhagi\")\n",
    "engine.say(\"thank you\")\n",
    "engine.runAndWait()"
   ]
  },
  {
   "cell_type": "code",
   "execution_count": 1,
   "id": "e319ca6b-cac0-4310-abf9-e280dc8c73ae",
   "metadata": {},
   "outputs": [
    {
     "ename": "NameError",
     "evalue": "name 'engine' is not defined",
     "output_type": "error",
     "traceback": [
      "\u001b[1;31m---------------------------------------------------------------------------\u001b[0m",
      "\u001b[1;31mNameError\u001b[0m                                 Traceback (most recent call last)",
      "Cell \u001b[1;32mIn[1], line 1\u001b[0m\n\u001b[1;32m----> 1\u001b[0m voices \u001b[38;5;241m=\u001b[39m engine\u001b[38;5;241m.\u001b[39mgetProperty(\u001b[38;5;124m'\u001b[39m\u001b[38;5;124mvoices\u001b[39m\u001b[38;5;124m'\u001b[39m)\n\u001b[0;32m      2\u001b[0m \u001b[38;5;28;01mfor\u001b[39;00m voice \u001b[38;5;129;01min\u001b[39;00m voices:\n\u001b[0;32m      3\u001b[0m     \u001b[38;5;28mprint\u001b[39m(voices[\u001b[38;5;241m1\u001b[39m]\u001b[38;5;241m.\u001b[39mid)\n",
      "\u001b[1;31mNameError\u001b[0m: name 'engine' is not defined"
     ]
    }
   ],
   "source": [
    "voices = engine.getProperty('voices')\n",
    "for voice in voices:\n",
    "    print(voice[1].id)"
   ]
  },
  {
   "cell_type": "code",
   "execution_count": 4,
   "id": "cb9291bb-dc1a-447a-8cab-d76c654b9b5c",
   "metadata": {},
   "outputs": [
    {
     "ename": "RuntimeError",
     "evalue": "run loop already started",
     "output_type": "error",
     "traceback": [
      "\u001b[1;31m---------------------------------------------------------------------------\u001b[0m",
      "\u001b[1;31mRuntimeError\u001b[0m                              Traceback (most recent call last)",
      "Cell \u001b[1;32mIn[4], line 12\u001b[0m\n\u001b[0;32m     10\u001b[0m engine\u001b[38;5;241m.\u001b[39msay(\u001b[38;5;124m\"\u001b[39m\u001b[38;5;124mjaii mahismathi\u001b[39m\u001b[38;5;124m\"\u001b[39m)\n\u001b[0;32m     11\u001b[0m engine\u001b[38;5;241m.\u001b[39msay(\u001b[38;5;124m\"\u001b[39m\u001b[38;5;124mthank you\u001b[39m\u001b[38;5;124m\"\u001b[39m)\n\u001b[1;32m---> 12\u001b[0m engine\u001b[38;5;241m.\u001b[39mrunAndWait()\n",
      "File \u001b[1;32m~\\anaconda3\\Lib\\site-packages\\pyttsx3\\engine.py:180\u001b[0m, in \u001b[0;36mEngine.runAndWait\u001b[1;34m(self)\u001b[0m\n\u001b[0;32m    172\u001b[0m \u001b[38;5;250m\u001b[39m\u001b[38;5;124;03m\"\"\"\u001b[39;00m\n\u001b[0;32m    173\u001b[0m \u001b[38;5;124;03mRuns an event loop until all commands queued up until this method call\u001b[39;00m\n\u001b[0;32m    174\u001b[0m \u001b[38;5;124;03mcomplete. Blocks during the event loop and returns when the queue is\u001b[39;00m\n\u001b[1;32m   (...)\u001b[0m\n\u001b[0;32m    177\u001b[0m \u001b[38;5;124;03m@raise RuntimeError: When the loop is already running\u001b[39;00m\n\u001b[0;32m    178\u001b[0m \u001b[38;5;124;03m\"\"\"\u001b[39;00m\n\u001b[0;32m    179\u001b[0m \u001b[38;5;28;01mif\u001b[39;00m \u001b[38;5;28mself\u001b[39m\u001b[38;5;241m.\u001b[39m_inLoop:\n\u001b[1;32m--> 180\u001b[0m     \u001b[38;5;28;01mraise\u001b[39;00m \u001b[38;5;167;01mRuntimeError\u001b[39;00m(\u001b[38;5;124m'\u001b[39m\u001b[38;5;124mrun loop already started\u001b[39m\u001b[38;5;124m'\u001b[39m)\n\u001b[0;32m    181\u001b[0m \u001b[38;5;28mself\u001b[39m\u001b[38;5;241m.\u001b[39m_inLoop \u001b[38;5;241m=\u001b[39m \u001b[38;5;28;01mTrue\u001b[39;00m\n\u001b[0;32m    182\u001b[0m \u001b[38;5;28mself\u001b[39m\u001b[38;5;241m.\u001b[39m_driverLoop \u001b[38;5;241m=\u001b[39m \u001b[38;5;28;01mTrue\u001b[39;00m\n",
      "\u001b[1;31mRuntimeError\u001b[0m: run loop already started"
     ]
    }
   ],
   "source": [
    "import pyttsx3\n",
    "\n",
    "#initilaisation\n",
    "engine=pyttsx3.init()\n",
    "\n",
    "#testing\n",
    "voices=engine.getProperty('voices')\n",
    "for voice in voices:\n",
    "    engine.setProperty('voice',voice.id)\n",
    "engine.say(\"jaii mahismathi\")\n",
    "engine.say(\"thank you\")\n",
    "engine.runAndWait()"
   ]
  },
  {
   "cell_type": "code",
   "execution_count": 1,
   "id": "0b05de25-fee6-4faa-a03f-fe6182a1ecbb",
   "metadata": {},
   "outputs": [],
   "source": [
    "import pyttsx3\n",
    "\n",
    "#initilaisation\n",
    "engine=pyttsx3.init()\n",
    "\n",
    "#testing\n",
    "voices=engine.getProperty('voices')\n",
    "for voice in voices:\n",
    "    engine.setProperty('voice',voices[0].id)\n",
    "engine.say(\"jaii mahismathi\")\n",
    "engine.say(\"thank you\")\n",
    "engine.runAndWait()"
   ]
  },
  {
   "cell_type": "code",
   "execution_count": 8,
   "id": "68d2f4e6-41b3-4512-97cd-b918d646765f",
   "metadata": {},
   "outputs": [
    {
     "name": "stdout",
     "output_type": "stream",
     "text": [
      "Please speak something...\n",
      "Time over, thanks\n",
      "You said: microphone is not working\n",
      "Translated text (te): మైక్రోఫోన్ పనిచేయడం లేదు\n"
     ]
    }
   ],
   "source": [
    "import speech_recognition as sr\n",
    "from googletrans import Translator\n",
    "\n",
    "def speech_to_text_and_translate(target_language='en'):\n",
    "    # Initialize recognizer class (for recognizing the speech)\n",
    "    recognizer = sr.Recognizer()\n",
    "\n",
    "    # Initialize translator\n",
    "    translator = Translator()\n",
    "\n",
    "    # Reading Microphone as source\n",
    "    # Listening to the speech and store it in audio_text variable\n",
    "    with sr.Microphone() as source:\n",
    "        print(\"Please speak something...\")\n",
    "\n",
    "        # Add some silence time buffer before and after speech detection\n",
    "        recognizer.energy_threshold = 300  # Adjust as needed for ambient noise\n",
    "        recognizer.dynamic_energy_threshold = True\n",
    "\n",
    "        try:\n",
    "            # Adjust timing settings for capturing speech\n",
    "            audio_text = recognizer.listen(source, timeout=10, phrase_time_limit=20)  # More time to speak\n",
    "            print(\"Time over, thanks\")\n",
    "\n",
    "            try:\n",
    "                # Using Google speech recognition\n",
    "                text = recognizer.recognize_google(audio_text)\n",
    "                print(\"You said: \" + text)\n",
    "\n",
    "                # Translating the text\n",
    "                translated_text = translator.translate(text, dest=target_language)\n",
    "                print(f\"Translated text ({target_language}): \" + translated_text.text)\n",
    "            except sr.UnknownValueError:\n",
    "                print(\"Sorry, I did not understand that.\")\n",
    "            except sr.RequestError:\n",
    "                print(\"Sorry, my speech service is down.\")\n",
    "            except Exception as e:\n",
    "                print(f\"An error occurred: {e}\")\n",
    "\n",
    "        except sr.WaitTimeoutError:\n",
    "            print(\"No speech detected within the allowed time.\")\n",
    "        except Exception as e:\n",
    "            print(f\"An error occurred during listening: {e}\")\n",
    "\n",
    "if __name__ == \"__main__\":\n",
    "    # Set the target language for translation (e.g., 'es' for Spanish)\n",
    "    target_language = 'te'\n",
    "    speech_to_text_and_translate(target_language)\n",
    "    \n"
   ]
  },
  {
   "cell_type": "code",
   "execution_count": null,
   "id": "0a15b6c0-14b1-419b-8409-0cc29a44a45d",
   "metadata": {},
   "outputs": [],
   "source": []
  }
 ],
 "metadata": {
  "kernelspec": {
   "display_name": "Python 3 (ipykernel)",
   "language": "python",
   "name": "python3"
  },
  "language_info": {
   "codemirror_mode": {
    "name": "ipython",
    "version": 3
   },
   "file_extension": ".py",
   "mimetype": "text/x-python",
   "name": "python",
   "nbconvert_exporter": "python",
   "pygments_lexer": "ipython3",
   "version": "3.12.7"
  }
 },
 "nbformat": 4,
 "nbformat_minor": 5
}
