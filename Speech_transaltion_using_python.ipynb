{
 "cells": [
  {
   "cell_type": "code",
   "execution_count": null,
   "id": "829d98f9-3129-45cf-9311-d1c760d2dc2a",
   "metadata": {
    "id": "829d98f9-3129-45cf-9311-d1c760d2dc2a"
   },
   "outputs": [],
   "source": [
    "#!pip install googletrans==4.0.0-rc1"
   ]
  },
  {
   "cell_type": "code",
   "execution_count": null,
   "id": "73ff3a36-9dd8-4c9e-8d42-c0334d75e9d0",
   "metadata": {
    "id": "73ff3a36-9dd8-4c9e-8d42-c0334d75e9d0",
    "outputId": "3c3a5e34-f5cf-4eea-f62b-c411fce31898"
   },
   "outputs": [
    {
     "name": "stdout",
     "output_type": "stream",
     "text": [
      "Please speak something...\n",
      "Time over, thanks\n",
      "You said: hey guys\n",
      "Translated text (es): hola, chicos\n"
     ]
    }
   ],
   "source": [
    "import speech_recognition as sr\n",
    "from googletrans import Translator\n",
    "\n",
    "def speech_to_text_and_translate(target_language='en'):\n",
    "    # Initialize recognizer class (for recognizing the speech)\n",
    "    recognizer = sr.Recognizer()\n",
    "\n",
    "    # Initialize translator\n",
    "    translator = Translator()\n",
    "\n",
    "    # Reading Microphone as source\n",
    "    # Listening to the speech and store it in audio_text variable\n",
    "    with sr.Microphone() as source:\n",
    "        print(\"Please speak something...\")\n",
    "        audio_text = recognizer.listen(source)\n",
    "        print(\"Time over, thanks\")\n",
    "\n",
    "        try:\n",
    "            # Using Google speech recognition\n",
    "            text = recognizer.recognize_google(audio_text)\n",
    "            print(\"You said: \" + text)\n",
    "\n",
    "            # Translating the text\n",
    "            translated_text = translator.translate(text, dest=target_language)\n",
    "            print(f\"Translated text ({target_language}): \" + translated_text.text)\n",
    "        except sr.UnknownValueError:\n",
    "            print(\"Sorry, I did not understand that.\")\n",
    "        except sr.RequestError:\n",
    "            print(\"Sorry, my speech service is down.\")\n",
    "        except Exception as e:\n",
    "            print(f\"An error occurred: {e}\")\n",
    "\n",
    "if __name__ == \"__main__\":\n",
    "    # Set the target language for translation (e.g., 'es' for Spanish)\n",
    "    target_language = 'en'\n",
    "    speech_to_text_and_translate(target_language)\n"
   ]
  },
  {
   "cell_type": "code",
   "execution_count": null,
   "id": "ed15d642-e40a-4b01-9b3d-ac2186964ae6",
   "metadata": {
    "id": "ed15d642-e40a-4b01-9b3d-ac2186964ae6",
    "outputId": "b8837e12-34f0-4b06-944c-3d5bbbe589ab"
   },
   "outputs": [
    {
     "name": "stdout",
     "output_type": "stream",
     "text": [
      "Please speak something...\n",
      "Time over, thanks\n",
      "You said: hey guys I am Omkar na Lagani I am from Hyderabad\n"
     ]
    }
   ],
   "source": [
    "import speech_recognition as sr\n",
    "from googletrans import Translator\n",
    "\n",
    "def speech_to_text_and_translate(target_language):\n",
    "    # Initialize recognizer class (for recognizing the speech)\n",
    "    recognizer = sr.Recognizer()\n",
    "\n",
    "    # Initialize translator\n",
    "    translator = Translator()\n",
    "\n",
    "    # Reading Microphone as source\n",
    "    # Listening to the speech and store it in audio_text variable\n",
    "    with sr.Microphone() as source:\n",
    "        print(\"Please speak something...\")\n",
    "\n",
    "        # Add some silence time buffer before and after speech detection\n",
    "        recognizer.energy_threshold = 300  # Adjust as needed for ambient noise\n",
    "        recognizer.dynamic_energy_threshold = True\n",
    "\n",
    "        try:\n",
    "            # Adjust timing settings for capturing speech\n",
    "            audio_text = recognizer.listen(source, timeout=10, phrase_time_limit=20)  # More time to speak\n",
    "            print(\"Time over, thanks\")\n",
    "\n",
    "            try:\n",
    "                # Using Google speech recognition\n",
    "                text = recognizer.recognize_google(audio_text)\n",
    "                print(\"You said: \" + text)\n",
    "\n",
    "                # Translating the text\n",
    "                translated_text = translator.translate(text, dest=target_language)\n",
    "                print(f\"Translated text ({target_language}): \" + translated_text.text)\n",
    "            except sr.UnknownValueError:\n",
    "                print(\"Sorry, I did not understand that.\")\n",
    "            except sr.RequestError:\n",
    "                print(\"Sorry, my speech service is down.\")\n",
    "            except Exception as e:\n",
    "                print(f\"An error occurred: {e}\")\n",
    "\n",
    "        except sr.WaitTimeoutError:\n",
    "            print(\"No speech detected within the allowed time.\")\n",
    "        except Exception as e:\n",
    "            print(f\"An error occurred during listening: {e}\")\n",
    "\n",
    "if __name__ == \"__main__\":\n",
    "    # Set the target language for translation (e.g., 'es' for Spanish)\n",
    "    target_language = 'te'\n",
    "    speech_to_text_and_translate(target_language)\n",
    "\n"
   ]
  },
  {
   "cell_type": "code",
   "execution_count": null,
   "id": "61db21f3-8594-4d45-8050-4db6c2e3f20b",
   "metadata": {
    "id": "61db21f3-8594-4d45-8050-4db6c2e3f20b"
   },
   "outputs": [],
   "source": []
  }
 ],
 "metadata": {
  "colab": {
   "provenance": []
  },
  "kernelspec": {
   "display_name": "Python 3 (ipykernel)",
   "language": "python",
   "name": "python3"
  },
  "language_info": {
   "codemirror_mode": {
    "name": "ipython",
    "version": 3
   },
   "file_extension": ".py",
   "mimetype": "text/x-python",
   "name": "python",
   "nbconvert_exporter": "python",
   "pygments_lexer": "ipython3",
   "version": "3.12.7"
  }
 },
 "nbformat": 4,
 "nbformat_minor": 5
}
